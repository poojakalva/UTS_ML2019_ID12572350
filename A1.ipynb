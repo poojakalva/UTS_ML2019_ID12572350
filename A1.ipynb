{
  "nbformat": 4,
  "nbformat_minor": 0,
  "metadata": {
    "colab": {
      "name": "A1.ipynb",
      "version": "0.3.2",
      "provenance": [],
      "include_colab_link": true
    },
    "kernelspec": {
      "name": "python3",
      "display_name": "Python 3"
    }
  },
  "cells": [
    {
      "cell_type": "markdown",
      "metadata": {
        "id": "view-in-github",
        "colab_type": "text"
      },
      "source": [
        "<a href=\"https://colab.research.google.com/github/poojakalva/UTS_ML2019_ID12572350/blob/master/A1.ipynb\" target=\"_parent\"><img src=\"https://colab.research.google.com/assets/colab-badge.svg\" alt=\"Open In Colab\"/></a>"
      ]
    },
    {
      "cell_type": "markdown",
      "metadata": {
        "id": "4Y0TxktZHL_w",
        "colab_type": "text"
      },
      "source": [
        "# **Assignment 1: Understanding the Literature**\n",
        "\n",
        "***Chosen Paper: Eigenfaces vs. Fisherfaces: Recognition Using Class Specific Linear Projection*** \n",
        "\n",
        "*Poojitha Kalva – 12572350* \n",
        "\n",
        "\n",
        "https://github.com/poojakalva/UTS_ML2019_ID12572350/blob/master/A1.ipynb\n",
        "\n",
        "\n",
        "**Introduction**\n",
        "\n",
        "In order to develop as researchers and professionals within the field of Machine Learning, there is a necessity to understand the development and current state of technological advancements as well as the research that has been performed in the field. Understanding and critiquing machine learning literature is vital to developing such knowledge in the area and having the capacity to acknowledge the successes and opportunities of development in order to build upon current technology. For this reason, this paper delves into the analysis of machine learning literature revolving around research on face recognition techniques and the proposition of a new algorithm. \n",
        "\n",
        "\n",
        "**Content**\n",
        "\n",
        "Written during the beginning of the era of evolving technology, Belhumeur, Hespanha and Kriegman’s paper discusses the application of pattern analysis and machine learning techniques in the field of face recognition. More specifically, they explain the development of a new face recognition method that can produce reliable results irrespective of two things – variations in lighting and changes in facial expression. Before proposing the specifics of their new algorithm, the authors allow themselves to delve into each method that was explored and experimented with initially which led them to their final outcome. In particular, the techniques of correlation, Fisher’s Linear Discriminant and Eigenfaces are discussed in depth before examining the proposed method – Fisherface. In drawing comparisons between these techniques, the problem at hand is stated as “Given a set of face images labeled with the person’s identity (learning set) and an unlabeled set of face images from the same group of people (test set), identify each person in the test images”. Through setting this problem statement, the authors are able to experiment with variables of lighting, facial expression and eyewear and observe the results of each technique that is used and establish which perform better in which particular area. In considering these aspects, the paper essentially dives into a comparison between Principal Components Analysis (PCA) and Linear Discriminant Analysis (LDA) which they gained knowledge from the work of Martinez and Kak (2002). \n",
        "\n",
        "\n",
        "**Innovation** \n",
        "\n",
        "The level of novelty within this paper is proven to be relatively high in the sense that it does not simply re-write details of existing methodologies, but rather explores the strengths, weaknesses and opportunities posed by each and then proceeds to understand how these could be combined to present a new approach for face recognition. The paper provides a valuable contribution to the developing world of technological advancements in two predominant approaches. First and foremost, Belhumeur, Hespanha and Kriegman build upon pre-existing research and experimentation through delving into a thorough comparison of methods within the paper – specifically between Fisher’s Linear Discriminant and the Eigenfaces technique. In doing such comparison, the authors further their innovative contribution by analyzing the advantages and disadvantages of each and as such, proposing a new face recognition algorithm that is based upon the aforementioned methods. Their proposition is also equally involved in the experimentation of techniques to decipher which techniques outperform in certain areas compared to other methods. It is also evident that whilst the authors gained vital knowledge from  the work of Martinez and Kak (2002), they built upon these discoveries through their experimentation and final proposition.\n",
        "\n",
        "\n",
        "**Technical** **Quality** \n",
        "\n",
        "In regards to the technical quality of the research paper, there are numerous aspects to consider. First and foremost, the study involves a comparison of four face recognition methods – the number of techniques that have been considered is commendable and allows a thorough, unbiased and not restrictive or limited study. Further, the specific attributes of the techniques and their equal relation in being applied in the face recognition domain serves as an advantage in that there has been reasonable consideration in choosing appropriate methods to compare to each other. The datasets that were used in the study have also been described which allows the audience to judge the quality of data that was utilized – the data originates from a Harvard The method of the experiment itself is not solely based on the results of the training sets, but rather the results provided from the final testing sets, which allows a more reliable comparison. \n",
        "\n",
        "\n",
        "**Application and X-Factor** \n",
        "\n",
        "Throughout the paper, the authors focus upon the application domain of face recognition and their examination and proposition of techniques in relation to this field. Considering that the newly proposed method is derived from thorough study of a linear dimensionality reduction method – Fisher’s Linear Discriminant and the linear algebraic face recognition method of Eigenfaces, it seems highly appropriate that the proposition is directly correlated to the domain of face recognition. Observations of this paper and numerous other papers indicate that there are in fact areas of development and improvements that could be made to heighten the performance of such face recognition techniques. These areas of further development spark a need to discuss and explore the area of face recognition within our studies of machine learning. Particularly, there is room for exploration in relation to the ability of techniques to handle large volumes of data as well as responding accurately to more variations in lighting that are possible. Whilst the authors have experimented with the accuracy of each method, including their own, in identifying images, they are yet to test the methods in terms handling varying sizes of databases. \n",
        "\n",
        "\n",
        "**Presentation** \n",
        "\n",
        "The presentation of Belhumeur, Hespanha and Kriegman’s paper is undoubtedly of a high quality considering its technical nature. The authors explicitly outline the nature of the paper and its purpose along with highlighting key terms and topics that will be revisited numerous times throughout the research paper. There is reassurance that the readers of this paper will be able to comprehend the discussion as the authors ensure the explanation of each method first before delving into the experiment of each one. More specifically, the structure of discussing the pre-existing methods and emphasizing their successes and downfalls before displaying the development of their proposed technique allows the reader to gain a thorough foundational understanding of the researchers’ thought processes. This aligns strongly with the clarity and depth that is provided in each section along with the use of visual aids and formulae to detail the workings behind each method. \n",
        "\n",
        "\n",
        "\n",
        "\n",
        "\n",
        "\n",
        "**References**\n",
        "\n",
        "A.M. Martinez and A. C. Kak, \"PCA versus LDA,\" in IEEE Transactions on Pattern Analysis and Machine Intelligence, vol. 23, no. 2, 2001\n",
        "\n",
        "Ling Chen, Hong Man\n",
        "Analysis and Modeling of Faces and Gestures, 2003. AMFG 2003. IEEE International Workshop on, pp. 5- 10, 2003\n",
        "\n",
        "P. N. Belhumeur, J. P. Hespanha and D. J. Kriegman, \"Eigenfaces vs. Fisherfaces: recognition using class specific linear projection,\" in IEEE Transactions on Pattern Analysis and Machine Intelligence, vol. 19, no. 7, 1997.\n",
        "\n",
        "K. Etemad and R. Chellapa, \"Discriminant Analysis for Recognition of Human Face Images,\" J. Optics of Am. A, vol. 14, no. 8, 1997.\n",
        "\n",
        "M. Turk and A. Pentland, \"Eigenfaces for Recognition,\" J. Cognitive Neuroscience, vol. 3, no. 1, 1991.\n",
        "\n",
        "\n",
        "\n",
        "\n",
        "\n"
      ]
    }
  ]
}